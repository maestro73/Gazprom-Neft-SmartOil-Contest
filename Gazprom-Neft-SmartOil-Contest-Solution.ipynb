{
 "cells": [
  {
   "cell_type": "markdown",
   "metadata": {},
   "source": [
    "## Gazprom Neft SmartOil Contest (31.08.2018 – 03.10.2018)\n",
    "\n",
    "link: https://boosters.pro/gazprom_smartoil_contest"
   ]
  },
  {
   "cell_type": "markdown",
   "metadata": {},
   "source": [
    "#### NOTEBOOK STRUCTURE:\n",
    "\n",
    "0. Libraries and Functions\n",
    "1. Data Preprocessing\n",
    "2. Feature Engineering: Data Decomposition and Clustering\n",
    "3. Modeling"
   ]
  },
  {
   "cell_type": "markdown",
   "metadata": {},
   "source": [
    "## 0. Libraries and Functions"
   ]
  },
  {
   "cell_type": "code",
   "execution_count": 1,
   "metadata": {
    "collapsed": false
   },
   "outputs": [],
   "source": [
    "import pandas as pd\n",
    "import numpy as np\n",
    "\n",
    "import os   #path, listdir\n",
    "PATH = '...'\n",
    "os.chdir(PATH)\n",
    "\n",
    "import datetime as dt\n",
    "\n",
    "#Vizualisation\n",
    "%matplotlib inline\n",
    "import matplotlib.pyplot as plt\n",
    "import seaborn as sns\n",
    "\n",
    "#Green/Red colors: cm = sns.diverging_palette(10, 150, as_cmap=True)\n",
    "cm = sns.light_palette(\"green\", as_cmap=True)\n",
    "sns.set_style(\"white\")\n",
    "\n",
    "#Use patsy‘s formula language to produce design matrices\n",
    "import patsy\n",
    "\n",
    "#Linear Regression\n",
    "#import statsmodels.api as sm\n",
    "#import statsmodels.formula.api as smf\n",
    "\n",
    "#sklearn\n",
    "from sklearn.preprocessing import LabelEncoder, StandardScaler\n",
    "from sklearn.model_selection import train_test_split\n",
    "from sklearn.metrics import mean_absolute_error\n",
    "from sklearn.decomposition import PCA, TruncatedSVD, FastICA, FactorAnalysis\n",
    "from sklearn.random_projection import GaussianRandomProjection, SparseRandomProjection\n",
    "from sklearn.cluster import KMeans\n",
    "\n",
    "#Parameters' Optimization\n",
    "#https://districtdatalabs.silvrback.com/parameter-tuning-with-hyperopt\n",
    "from hyperopt import hp\n",
    "from hyperopt import fmin, tpe, hp, STATUS_OK, Trials\n",
    "\n",
    "import xgboost as xgb"
   ]
  },
  {
   "cell_type": "code",
   "execution_count": 2,
   "metadata": {
    "collapsed": true
   },
   "outputs": [],
   "source": [
    "#checking for outliers\n",
    "#https://stackoverflow.com/questions/22354094/pythonic-way-of-detecting-outliers-in-one-dimensional-observation-data\n",
    "def is_outlier(points, thresh=3.5):\n",
    "    \"\"\"\n",
    "    Returns a boolean array with True if points are outliers and False \n",
    "    otherwise.\n",
    "\n",
    "    Parameters:\n",
    "    -----------\n",
    "        points : An numobservations by numdimensions array of observations\n",
    "        thresh : The modified z-score to use as a threshold. Observations with\n",
    "            a modified z-score (based on the median absolute deviation) greater\n",
    "            than this value will be classified as outliers.\n",
    "\n",
    "    Returns:\n",
    "    --------\n",
    "        mask : A numobservations-length boolean array.\n",
    "\n",
    "    References:\n",
    "    ----------\n",
    "        Boris Iglewicz and David Hoaglin (1993), \"Volume 16: How to Detect and\n",
    "        Handle Outliers\", The ASQC Basic References in Quality Control:\n",
    "        Statistical Techniques, Edward F. Mykytka, Ph.D., Editor. \n",
    "    \"\"\"\n",
    "    if len(points.shape) == 1:\n",
    "        points = points[:,None]\n",
    "    median = np.median(points, axis=0)\n",
    "    diff = np.sum((points - median)**2, axis=-1)\n",
    "    diff = np.sqrt(diff)\n",
    "    med_abs_deviation = np.median(diff)\n",
    "\n",
    "    modified_z_score = 0.6745 * diff / med_abs_deviation #0.6745 - 75% percentile of normal distribution\n",
    "\n",
    "    return modified_z_score > thresh"
   ]
  },
  {
   "cell_type": "code",
   "execution_count": 3,
   "metadata": {
    "collapsed": true
   },
   "outputs": [],
   "source": [
    "#calculationg a difference in days between dates for each ID\n",
    "def time_diff(train, column='date'):\n",
    "    return train[column].diff()\n",
    "\n",
    "#calculating a trend line for each ID\n",
    "def trend(train):\n",
    "    return pd.Series(np.arange(len(train)), index=train['date'])\n",
    "\n",
    "#calculating a LOSS metric (MAE)\n",
    "def mae(preds, actual):\n",
    "    return (np.abs(preds - actual)).mean()"
   ]
  },
  {
   "cell_type": "code",
   "execution_count": null,
   "metadata": {
    "collapsed": true
   },
   "outputs": [],
   "source": []
  },
  {
   "cell_type": "markdown",
   "metadata": {},
   "source": [
    "## 1. DATA PREPROCESSING"
   ]
  },
  {
   "cell_type": "code",
   "execution_count": 4,
   "metadata": {
    "collapsed": true
   },
   "outputs": [],
   "source": [
    "\"\"\"FRAC\"\"\"\n",
    "\n",
    "#work with FRAC files: some info about test consists in train frac\n",
    "\n",
    "#simple dictionary\n",
    "symbols = (u\"абвгдеёжзийклмнопрстуфхцчшщъыьэюяАБВГДЕЁЖЗИЙКЛМНОПРСТУФХЦЧШЩЪЫЬЭЮЯ\",\n",
    "           u\"abvgdeejzijklmnoprstufhzcsstymeuaABVGDEEJZIJKLMNOPRSTUFHZCSSTYMEUA\")\n",
    "\n",
    "tr = {ord(a):ord(b) for a, b in zip(*symbols)}\n",
    "\n",
    "#diwnload frac data\n",
    "frac_train1 = pd.read_csv('frac_train_1.csv', engine='python')\n",
    "frac_train2 = pd.read_csv('frac_train_2.csv', engine='python')\n",
    "frac_test1 = pd.read_csv('frac_test_1.csv', engine='python')\n",
    "frac_test2 = pd.read_csv('frac_test_2.csv', engine='python')\n",
    "\n",
    "frac_train2.drop('Скважина_2', axis=1, inplace=True)\n",
    "\n",
    "frac = pd.concat([frac_train1, frac_train2, frac_test1, frac_test2])\n",
    "frac.reset_index(drop=True, inplace=True)\n",
    "\n",
    "#checking for outliers\n",
    "for i in frac.columns:\n",
    "    if frac[i].dtypes == np.float64:\n",
    "        frac.loc[frac[frac[i].isnull()==False][is_outlier(frac[frac[i].isnull()==False][i])][i].index, i] = np.nan\n",
    "\n",
    "frac['Проппант'] = frac['Проппант'].apply(lambda x: str(x).lower()).apply(lambda x: x.translate(tr))\n",
    "\n",
    "#label encoding: Проппант\n",
    "prop_dict = {}\n",
    "lbl = LabelEncoder()\n",
    "lbl.fit_transform(frac['Проппант'].unique())\n",
    "prop_dict['Проппант'] = dict(zip(lbl.classes_, range(len(lbl.classes_))))\n",
    "\n",
    "frac['Проппант'] = frac['Проппант'].map(prop_dict['Проппант'])\n",
    "\n",
    "#frac = pd.concat([frac, pd.get_dummies(frac['Проппант'], prefix='prop')], axis=1).drop('Проппант', axis=1)\n",
    "frac = pd.concat([frac, pd.get_dummies(frac['Проппант'], prefix='prop')], axis=1)\n",
    "frac = frac.drop_duplicates(subset='Скважина')\n",
    "\n",
    "\"\"\"COORDS\"\"\"\n",
    "\n",
    "#download cords files\n",
    "coords_train1 = pd.read_csv('coords_train_1.1.csv', engine='python')\n",
    "coords_test1 = pd.read_csv('coords_test_1.1.csv', engine='python')\n",
    "\n",
    "coords_train2 = pd.read_csv('coords_train_2.1.csv', engine='python')\n",
    "coords_test2 = pd.read_csv('coords_test_2.1.csv', engine='python')\n",
    "\n",
    "coords = pd.concat([coords_train1, coords_train2, coords_test1, coords_test2])\n",
    "\n",
    "#label encoding: ПЛАСТ\n",
    "plast_dict = {}\n",
    "lbl = LabelEncoder()\n",
    "lbl.fit_transform(coords['ПЛАСТ'].unique())\n",
    "plast_dict['ПЛАСТ'] = dict(zip(lbl.classes_, range(len(lbl.classes_))))\n",
    "\n",
    "coords['ПЛАСТ'] = coords['ПЛАСТ'].map(plast_dict['ПЛАСТ']) \n",
    "\n",
    "#get dummies\n",
    "coords = pd.concat([coords, pd.get_dummies(coords['ПЛАСТ'], prefix='pl')], axis=1)\n",
    "coords.rename(columns={'well_hash':'Скважина'}, inplace=True)\n",
    "\n",
    "#plast count\n",
    "coords = pd.merge(coords, coords.groupby('Скважина')['ПЛАСТ'].count().reset_index(), \n",
    "                  on='Скважина', how='left').rename(columns={'ПЛАСТ_y':'plast_cnt'})\n",
    "\n",
    "coords = pd.concat([coords[['УСТЬЕ_X', 'УСТЬЕ_Y', 'ПЛАСТ_X', 'ПЛАСТ_Y', \n",
    "                            'Альтитуда','Скважина', 'plast_cnt']].groupby('Скважина').median().reset_index(),\n",
    "                    coords.groupby('Скважина').max()[['pl_' + str(i) for i in np.arange(16)]].reset_index(drop=True)], axis=1)\n",
    "\n",
    "\"\"\"TRAIN & TEST: ALL TOGETHER\"\"\"\n",
    "#download train and test\n",
    "train1 = pd.read_csv('train_1.8.csv', engine='python')\n",
    "test1 = pd.read_csv('test_1.9.csv', engine='python')\n",
    "train2 = pd.read_csv('train_2.7.csv', engine='python')\n",
    "test2 = pd.read_csv('test_2.9.csv', engine='python')\n",
    "\n",
    "#concatinate and take only unique values\n",
    "data = pd.concat([train1, train2, test1, test2])\n",
    "\n",
    "#change format for some features\n",
    "str_cols = ['Добыча растворенного газа, м3', 'Дебит попутного газа, м3/сут', 'Конденсат, т',\n",
    "            'Приемистость, м3/сут', 'Обводненность (вес), %', 'Нефть, т', 'Нефть, м3', 'Жидкость, м3', 'Дебит конденсата',\n",
    "            'Qж, т/сут', 'Вода, т', 'Жидкость, т']\n",
    "\n",
    "for i in str_cols:\n",
    "    data[i] = data[i].apply(lambda x: str(x).replace(',', '.')).astype(float)\n",
    "    if i in train1.columns:\n",
    "        train1[i] = train1[i].apply(lambda x: str(x).replace(',', '.')).astype(float)\n",
    "    if i in train2.columns:\n",
    "        train2[i] = train2[i].apply(lambda x: str(x).replace(',', '.')).astype(float)\n",
    "    if i in test1.columns:\n",
    "        test1[i] = test1[i].apply(lambda x: str(x).replace(',', '.')).astype(float)\n",
    "    if i in test2.columns:\n",
    "        test2[i] = test2[i].apply(lambda x: str(x).replace(',', '.')).astype(float)        \n",
    "\n",
    "#obj/float features\n",
    "object_cols = []\n",
    "float_cols = []\n",
    "\n",
    "for i in data.columns:\n",
    "    if (data[i].dtype == 'float64') and ('Дата' not in i):\n",
    "        float_cols.append(i)\n",
    "    if data[i].dtype == 'object':\n",
    "        object_cols.append(i)  \n",
    "             \n",
    "#group data by ID and take its median\n",
    "skvajina_floats = data.groupby('Скважина')[float_cols].median().reset_index()"
   ]
  },
  {
   "cell_type": "code",
   "execution_count": null,
   "metadata": {
    "collapsed": true
   },
   "outputs": [],
   "source": []
  },
  {
   "cell_type": "code",
   "execution_count": 5,
   "metadata": {
    "collapsed": false
   },
   "outputs": [],
   "source": [
    "\"\"\"TRAIN AND TEST: SEPARATION\"\"\"\n",
    "\n",
    "# select values in target variables with nan\n",
    "id_train1_na = train1[train1['Нефть, т'].isnull()]['Скважина'].unique()\n",
    "id_train2_na = train2[train2['Нефть, т'].isnull()]['Скважина'].unique()\n",
    "\n",
    "trainset1_full = train1[train1['Скважина'].isin(id_train1_na) == False].reset_index(drop=True).copy()\n",
    "trainset2_full = train2[train2['Скважина'].isin(id_train2_na) == False].reset_index(drop=True).copy()\n",
    "\n",
    "#ID with month count < 6\n",
    "#id_train2_short = list(trainset2_full['Скважина'].value_counts()[trainset2_full['Скважина'].value_counts() < 6].index)\n",
    "#trainset2_full = trainset2_full[trainset2_full['Скважина'].isin(id_train2_short)==False].reset_index(drop=True)\n",
    "\n",
    "#GRP = Hydraulic fracturing, fracking\n",
    "trainset1_full['grp'] = 0\n",
    "trainset2_full['grp'] = 0\n",
    "\n",
    "for i in trainset2_full['Скважина'].unique():\n",
    "    ind = trainset2_full[trainset2_full['Скважина']==i].index\n",
    "    if len(trainset2_full[trainset2_full['Скважина']==i]) >= 6:\n",
    "        trainset2_full.loc[ind[-6:], 'grp'] = 1\n",
    "        \n",
    "#create train and test sets (w or w/o 'Время работы, ч')\n",
    "trainset = pd.concat([trainset1_full, trainset2_full])[['Скважина', 'Дата', 'Время работы, ч', 'grp', 'Нефть, т']]\n",
    "#trainset = pd.concat([trainset1_full, trainset2_full])[['Скважина', 'Дата', 'grp', 'Нефть, т']]\n",
    "trainset.reset_index(drop=True, inplace=True)\n",
    "\n",
    "#testset1\n",
    "test1['grp'] = 0\n",
    "testset = test1[['Скважина', 'Дата', 'Время работы, ч', 'grp']].copy()\n",
    "#testset = test1[['Скважина', 'Дата','grp']].copy()\n",
    "\n",
    "trainset['date'] = trainset['Дата'].apply(lambda x: dt.datetime.strptime(x, '%Y-%m-%d'))\n",
    "testset['date'] = testset['Дата'].apply(lambda x: dt.datetime.strptime(x, '%Y-%m-%d'))\n",
    "\n",
    "#alternative date seems to be more appropriate to use\n",
    "#trainset['date'] = trainset['date'] - trainset['date'].apply(lambda x: dt.timedelta(x.day-1))\n",
    "#testset['date'] = (testset['date'] - dt.timedelta(days=1))\n",
    "\n",
    "#test data by 1-id-month to data by 6-id-months\n",
    "\n",
    "from dateutil.relativedelta import relativedelta\n",
    "\n",
    "def apply_two_columns(row):\n",
    "    return row['date'] + relativedelta(months=+row['linTrend'])\n",
    "\n",
    "#testset\n",
    "df = pd.DataFrame(testset['date'].repeat(6)).reset_index().groupby('index').apply(trend).reset_index()\n",
    "df.rename(columns={0:'linTrend'}, inplace=True)\n",
    "df['date'] = df.apply(apply_two_columns, axis=1)\n",
    "df['year'] = df['date'].dt.year.values\n",
    "df['quarter'] = df['date'].dt.quarter.values\n",
    "df['month'] = df['date'].dt.month.values\n",
    "df['days_in_month'] = df['date'].dt.daysinmonth.values\n",
    "\n",
    "#checking different features\n",
    "#df = pd.concat([df, pd.get_dummies(df.year, prefix='y')], axis=1)\n",
    "#df = pd.concat([df, pd.get_dummies(df.quarter, prefix='q')], axis=1)\n",
    "#df = pd.concat([df, pd.get_dummies(df.month, prefix='m')], axis=1)\n",
    "\n",
    "#df = pd.concat([df, pd.get_dummies(df.linTrend, prefix='lin')], axis=1)\n",
    "\n",
    "df['Время работы, ч'] = testset['Время работы, ч'].values.repeat(6)\n",
    "df['Скважина'] = testset['Скважина'].values.repeat(6)\n",
    "\n",
    "df.loc[df[df['linTrend']>0].index, 'Время работы, ч'] = (df[df['linTrend']>0]['days_in_month'] * 24).values\n",
    "\n",
    "testset = df.drop(['index', 'days_in_month'], axis=1).copy()\n",
    "testset['grp'] = 0\n",
    "\n",
    "#trainset\n",
    "trainset['year'] = trainset['date'].dt.year.values\n",
    "trainset['quarter'] = trainset['date'].dt.quarter.values\n",
    "trainset['month'] = trainset['date'].dt.month.values\n",
    "trainset['days_in_month'] = trainset['date'].dt.daysinmonth.values\n",
    "\n",
    "#trainset = pd.concat([trainset, pd.get_dummies(trainset.year, prefix='y')], axis=1)\n",
    "#trainset = pd.concat([trainset, pd.get_dummies(trainset.quarter, prefix='q')], axis=1)\n",
    "#trainset = pd.concat([trainset, pd.get_dummies(trainset.month, prefix='m')], axis=1)\n",
    "\n",
    "#trainset = pd.concat([trainset, pd.get_dummies(trainset.linTrend, prefix='lin')], axis=1)\n",
    "trainset.drop('Дата', axis=1, inplace=True)\n",
    "trainset.rename(columns={'Нефть, т':'target'}, inplace=True)\n",
    "\n",
    "#testset2\n",
    "test2['grp'] = 1\n",
    "testset2 = test2[['Скважина', 'Дата', 'Время работы, ч', 'grp']].copy()\n",
    "#testset2 = test2[['Скважина', 'Дата', 'grp']].copy()\n",
    "testset2['date'] = testset2['Дата'].apply(lambda x: dt.datetime.strptime(x, '%Y-%m-%d'))\n",
    "\n",
    "df = pd.DataFrame(testset2['date'].repeat(6)).reset_index().groupby('index').apply(trend).reset_index()\n",
    "df.rename(columns={0:'linTrend'}, inplace=True)\n",
    "df['date'] = df.apply(apply_two_columns, axis=1)\n",
    "df['year'] = df['date'].dt.year.values\n",
    "df['quarter'] = df['date'].dt.quarter.values\n",
    "df['month'] = df['date'].dt.month.values\n",
    "df['days_in_month'] = df['date'].dt.daysinmonth.values\n",
    "\n",
    "#df = pd.concat([df, pd.get_dummies(df.year, prefix='y')], axis=1)\n",
    "#df = pd.concat([df, pd.get_dummies(df.quarter, prefix='q')], axis=1)\n",
    "#df = pd.concat([df, pd.get_dummies(df.month, prefix='m')], axis=1)\n",
    "\n",
    "#df = pd.concat([df, pd.get_dummies(df.linTrend, prefix='lin')], axis=1)\n",
    "\n",
    "df['Время работы, ч'] = testset2['Время работы, ч'].values.repeat(6)\n",
    "df['Скважина'] = testset2['Скважина'].values.repeat(6)\n",
    "\n",
    "df.loc[df[df['linTrend']>0].index, 'Время работы, ч'] = (df[df['linTrend']>0]['days_in_month'] * 24).values\n",
    "\n",
    "testset2 = df.drop(['index', 'days_in_month'], axis=1).copy()\n",
    "testset2['grp'] = 1"
   ]
  },
  {
   "cell_type": "code",
   "execution_count": 6,
   "metadata": {
    "collapsed": true
   },
   "outputs": [],
   "source": [
    "#testset1\n",
    "#add linear trend for each ID-row\n",
    "linTrend = pd.DataFrame(trainset.groupby('Скважина').apply(trend)).reset_index()\n",
    "linTrend.columns = ['Скважина', 'date', 'linTrend']\n",
    "trainset = pd.merge(trainset, linTrend, on=['Скважина', 'date'], how='left')\n",
    "\n",
    "#add timedelta for each ID-row \n",
    "timedelta = pd.DataFrame(trainset.groupby('Скважина').apply(time_diff))\n",
    "timedelta.columns = ['timeDiff']\n",
    "timedelta = timedelta.reset_index()\n",
    "timedelta.fillna(0, inplace=True) #fillna(31*24*60*60, inplace=True) #set NaN to 31 days\n",
    "timedelta['timeDiff'] = (timedelta['timeDiff'] / np.timedelta64(1, 'D')).astype(int)\n",
    "#timedelta.drop('level_1', axis=1, inplace=True)\n",
    "trainset['timeDiff'] = 0\n",
    "trainset.loc[timedelta['level_1'].values, 'timeDiff'] = timedelta['timeDiff'].values\n",
    "\n",
    "#testset2\n",
    "timedelta = pd.DataFrame(testset.groupby('Скважина').apply(time_diff))\n",
    "timedelta.columns = ['timeDiff']\n",
    "timedelta = timedelta.reset_index()\n",
    "timedelta.fillna(0, inplace=True) #set NaN to 0/31 days\n",
    "timedelta['timeDiff'] = (timedelta['timeDiff'] / np.timedelta64(1, 'D')).astype(int)\n",
    "#timedelta.drop('level_1', axis=1, inplace=True)\n",
    "testset['timeDiff'] = 0\n",
    "testset.loc[timedelta['level_1'].values, 'timeDiff'] = timedelta['timeDiff'].values\n",
    "\n",
    "timedelta = pd.DataFrame(testset2.groupby('Скважина').apply(time_diff))\n",
    "timedelta.columns = ['timeDiff']\n",
    "timedelta = timedelta.reset_index()\n",
    "timedelta.fillna(0, inplace=True) #set NaN to 0/31 days\n",
    "timedelta['timeDiff'] = (timedelta['timeDiff'] / np.timedelta64(1, 'D')).astype(int)\n",
    "#timedelta.drop('level_1', axis=1, inplace=True)\n",
    "testset2['timeDiff'] = 0\n",
    "testset2.loc[timedelta['level_1'].values, 'timeDiff'] = timedelta['timeDiff'].values"
   ]
  },
  {
   "cell_type": "code",
   "execution_count": 7,
   "metadata": {
    "collapsed": true
   },
   "outputs": [],
   "source": [
    "#add ID data\n",
    "#trainset = pd.merge(trainset, skvajina_floats, on='Скважина', how='left')\n",
    "trainset = pd.merge(trainset, frac, on='Скважина', how='left')\n",
    "trainset = pd.merge(trainset, coords, on='Скважина', how='left')\n",
    "\n",
    "#testset = pd.merge(testset, skvajina_floats, on='Скважина', how='left')\n",
    "testset = pd.merge(testset, frac, on='Скважина', how='left')\n",
    "testset = pd.merge(testset, coords, on='Скважина', how='left')\n",
    "\n",
    "#testset2 = pd.merge(testset2, skvajina_floats, on='Скважина', how='left')\n",
    "testset2 = pd.merge(testset2, frac, on='Скважина', how='left')\n",
    "testset2 = pd.merge(testset2, coords, on='Скважина', how='left')\n",
    "\n",
    "#add additional trend for GRP rows\n",
    "trainset['grp_trend'] = 0\n",
    "trainset.loc[trainset[trainset['grp']==1].index, 'grp_trend'] = (np.arange(6).repeat(int(len(\n",
    "    trainset[trainset['grp']==1])/6)).reshape(6, int(len(\n",
    "    trainset[trainset['grp']==1])/6)).T.reshape(1, len(trainset[trainset['grp']==1])) + 1).T\n",
    "\n",
    "testset['grp_trend'] = 0\n",
    "testset2['grp_trend'] = (np.arange(6).repeat(\n",
    "    int(len(testset2)/6)).reshape(6, int(len(testset2)/6)).T.reshape(1, len(testset2)) + 1).T\n",
    "\n",
    "#drop IDs where sum = 0\n",
    "id_with_sum_zero = list(trainset.groupby('Скважина')['target'].sum().sort_values()[:17].index)\n",
    "trainset = trainset[trainset['Скважина'].isin(id_with_sum_zero)==False].reset_index(drop=True)"
   ]
  },
  {
   "cell_type": "code",
   "execution_count": null,
   "metadata": {
    "collapsed": true
   },
   "outputs": [],
   "source": []
  },
  {
   "cell_type": "code",
   "execution_count": null,
   "metadata": {
    "collapsed": false
   },
   "outputs": [],
   "source": [
    "%time\n",
    "#extract info from las files\n",
    "import lasio\n",
    "\n",
    "las_name = listdir(PATH)\n",
    "statistics = ['mean', 'median', 'sum', 'std', 'count', 'min', 'max']\n",
    "\n",
    "las_table = pd.DataFrame()\n",
    "for well in las_name:\n",
    "    las = lasio.read(PATH + '\\\\' + str(well))\n",
    "    \n",
    "    key_list = las.keys()\n",
    "    \n",
    "    index_list=[]\n",
    "    for i in statistics:\n",
    "        for j in key_list:\n",
    "            index_list.append(i+j)\n",
    "    \n",
    "    las_slice = pd.DataFrame(index=index_list)\n",
    "        \n",
    "    x = pd.DataFrame(las.data).mean(axis=0).values\n",
    "    x = np.concatenate([x, pd.DataFrame(las.data).median(axis=0).values])\n",
    "    x = np.concatenate([x, pd.DataFrame(las.data).sum(axis=0).values])\n",
    "    x = np.concatenate([x, pd.DataFrame(las.data).std(axis=0).values])\n",
    "    x = np.concatenate([x, pd.DataFrame(las.data).count(axis=0).values])\n",
    "    x = np.concatenate([x, pd.DataFrame(las.data).min(axis=0).values])\n",
    "    x = np.concatenate([x, pd.DataFrame(las.data).max(axis=0).values])\n",
    "    \n",
    "    las_slice[well[:-4]] = x\n",
    "    las_table = pd.concat([las_table, las_slice], axis=1)\n",
    "\n",
    "las_table.to_csv(PATH)"
   ]
  },
  {
   "cell_type": "code",
   "execution_count": null,
   "metadata": {
    "collapsed": true
   },
   "outputs": [],
   "source": []
  },
  {
   "cell_type": "code",
   "execution_count": 8,
   "metadata": {
    "collapsed": true
   },
   "outputs": [],
   "source": [
    "#read LAS file and add this file to the data\n",
    "las_table = pd.read_csv('las_files.csv')\n",
    "las_table = las_table.rename(columns={'Unnamed: 0': 'Скважина'})\n",
    "take_cols = list(las_table.count().sort_values(ascending=False)[:252].index)\n",
    "\n",
    "#las files\n",
    "trainset = pd.merge(trainset, las_table[take_cols], on='Скважина', how='left')\n",
    "testset = pd.merge(testset, las_table[take_cols], on='Скважина', how='left')\n",
    "testset2 = pd.merge(testset2, las_table[take_cols], on='Скважина', how='left')"
   ]
  },
  {
   "cell_type": "code",
   "execution_count": 9,
   "metadata": {
    "collapsed": false
   },
   "outputs": [
    {
     "data": {
      "image/png": "[encoded data removed]",
      "text/plain": [
       "<Figure size 576x396 with 1 Axes>"
      ]
     },
     "metadata": {},
     "output_type": "display_data"
    }
   ],
   "source": [
    "#visualize \"amount\" of usefull inforametion: not nan count for each featur in las file\n",
    "las_table.count().sort_values(ascending=False).plot();"
   ]
  },
  {
   "cell_type": "code",
   "execution_count": 10,
   "metadata": {
    "collapsed": true
   },
   "outputs": [],
   "source": [
    "\"\"\" DICTIONARY / RENAMING \"\"\"\n",
    "\n",
    "short_cols_dic = {}\n",
    "for i in trainset.columns:\n",
    "    short_cols_dic[i] = i.lower().replace('%','').replace('/','').replace(',','').replace('.','').replace(' ', '_').replace(\n",
    "        '/', '').replace('(', '').replace(')', '').replace('-', '')[:int(len(i))]\n",
    "\n",
    "symbols = (u\"абвгдеёжзийклмнопрстуфхцчшщъыьэюяАБВГДЕЁЖЗИЙКЛМНОПРСТУФХЦЧШЩЪЫЬЭЮЯ\",\n",
    "           u\"abvgdeejzijklmnoprstufhzcsstymeuaABVGDEEJZIJKLMNOPRSTUFHZCSSTYMEUA\")\n",
    "\n",
    "tr = {ord(a):ord(b) for a, b in zip(*symbols)}\n",
    "\n",
    "rus_to_eng_dic = {}\n",
    "for i in trainset.columns:\n",
    "    rus_to_eng_dic[i] = short_cols_dic[i].translate(tr)\n",
    "\n",
    "trainset.rename(columns=rus_to_eng_dic, inplace=True) \n",
    "testset.rename(columns=rus_to_eng_dic, inplace=True) \n",
    "testset2.rename(columns=rus_to_eng_dic, inplace=True)"
   ]
  },
  {
   "cell_type": "code",
   "execution_count": 11,
   "metadata": {
    "collapsed": true
   },
   "outputs": [],
   "source": [
    "#for testset2 create shifted lintrend starting point\n",
    "starting_point = trainset[trainset['skvajina'].isin(\n",
    "    list(trainset.groupby('skvajina')['grp'].sum().sort_values(\n",
    "        ascending=False)[:126].index))].groupby('skvajina')['target'].count().median()-6\n",
    "\n",
    "testset2['lintrend'] = testset2['lintrend'] + int(starting_point)"
   ]
  },
  {
   "cell_type": "code",
   "execution_count": null,
   "metadata": {
    "collapsed": true
   },
   "outputs": [],
   "source": []
  },
  {
   "cell_type": "markdown",
   "metadata": {},
   "source": [
    "## 2. Feature Engineering: Data Decomposition and Clustering\n",
    "\n",
    "**Data Decomposition**: PCA, SVD, ICA, Random Projection\n",
    "\n",
    "**Clustering**: K-Mean"
   ]
  },
  {
   "cell_type": "code",
   "execution_count": 13,
   "metadata": {
    "collapsed": true
   },
   "outputs": [],
   "source": [
    "#select cols which we will use in XGBoost\n",
    "cols_xgb_del = ['date', 'skvajina'] + ['vrema_raboty_c', 'month', 'timediff', 'quarter', 'year']\n",
    "cols_only_in_test = set(testset.columns) - set(trainset.columns)\n",
    "cols_xgb = list(set(list(testset.drop(cols_xgb_del, axis=1).columns)) - cols_only_in_test)"
   ]
  },
  {
   "cell_type": "code",
   "execution_count": 14,
   "metadata": {
    "collapsed": true
   },
   "outputs": [],
   "source": [
    "#standardize features by removing the mean and scaling to unit variance\n",
    "scaler = StandardScaler()\n",
    "scaler.fit(trainset[cols_xgb].fillna(0))\n",
    "\n",
    "trainset_scaled = scaler.transform(trainset[cols_xgb].fillna(0))\n",
    "testset_scaled = scaler.transform(testset[cols_xgb].fillna(0))\n",
    "testset2_scaled = scaler.transform(testset2[cols_xgb].fillna(0))"
   ]
  },
  {
   "cell_type": "code",
   "execution_count": 15,
   "metadata": {
    "collapsed": false
   },
   "outputs": [
    {
     "name": "stdout",
     "output_type": "stream",
     "text": [
      "\n",
      "Start decomposition process...\n",
      "PCA\n",
      "tSVD\n",
      "ICA\n",
      "FA\n",
      "GRP\n",
      "SRP\n",
      "Append decomposition components to datasets...\n",
      "\n",
      "Train shape: (7750, 584)\n",
      "Test shape: (1596, 582)\n"
     ]
    }
   ],
   "source": [
    "#dimensionality reduction: use set of methods (decomposition and random projection)\n",
    "from sklearn.decomposition import PCA, TruncatedSVD, FastICA, FactorAnalysis\n",
    "from sklearn.random_projection import GaussianRandomProjection, SparseRandomProjection\n",
    "\n",
    "N_COMP = 10\n",
    "\n",
    "print(\"\\nStart decomposition process...\")\n",
    "print(\"PCA\")\n",
    "pca = PCA(n_components=N_COMP, random_state=17)\n",
    "pca_results_train = pca.fit_transform(trainset_scaled)\n",
    "pca_results_test = pca.transform(testset_scaled)\n",
    "pca_results_test2 = pca.transform(testset2_scaled)\n",
    "\n",
    "print(\"tSVD\")\n",
    "tsvd = TruncatedSVD(n_components=N_COMP, random_state=17)\n",
    "tsvd_results_train = tsvd.fit_transform(trainset_scaled)\n",
    "tsvd_results_test = tsvd.transform(testset_scaled)\n",
    "tsvd_results_test2 = tsvd.transform(testset2_scaled)\n",
    "\n",
    "print(\"ICA\")\n",
    "ica = FastICA(n_components=N_COMP, random_state=17)\n",
    "ica_results_train = ica.fit_transform(trainset_scaled)\n",
    "ica_results_test = ica.transform(testset_scaled)\n",
    "ica_results_test2 = ica.transform(testset2_scaled)\n",
    "\n",
    "print(\"FA\")\n",
    "fa = FactorAnalysis(n_components=N_COMP, random_state=17)\n",
    "fa_results_train = fa.fit_transform(trainset_scaled)\n",
    "fa_results_test = fa.transform(testset_scaled)\n",
    "fa_results_test2 = fa.transform(testset2_scaled)\n",
    "\n",
    "print(\"GRP\")\n",
    "grp = GaussianRandomProjection(n_components=N_COMP, eps=0.1, random_state=17)\n",
    "grp_results_train = grp.fit_transform(trainset_scaled)\n",
    "grp_results_test = grp.transform(testset_scaled)\n",
    "grp_results_test2 = grp.transform(testset2_scaled)\n",
    "\n",
    "print(\"SRP\")\n",
    "srp = SparseRandomProjection(n_components=N_COMP, dense_output=True, random_state=17)\n",
    "srp_results_train = srp.fit_transform(trainset_scaled)\n",
    "srp_results_test = srp.transform(testset_scaled)\n",
    "srp_results_test2 = srp.transform(testset2_scaled)\n",
    "\n",
    "print(\"Append decomposition components to datasets...\")\n",
    "\n",
    "deco_names = []\n",
    "\n",
    "for i in range(1, N_COMP + 1):\n",
    "    deco_names.append('pca_' + str(i)), deco_names.append('tsvd_' + str(i)), deco_names.append('ica_' + str(i))\n",
    "    deco_names.append('fa_' + str(i)), deco_names.append('grp_' + str(i)), deco_names.append('srp_' + str(i))\n",
    "    \n",
    "    trainset['pca_' + str(i)] = pca_results_train[:, i - 1]\n",
    "    testset['pca_' + str(i)] = pca_results_test[:, i - 1]\n",
    "    testset2['pca_' + str(i)] = pca_results_test2[:, i - 1]\n",
    "    \n",
    "    trainset['tsvd_' + str(i)] = tsvd_results_train[:, i - 1]\n",
    "    testset['tsvd_' + str(i)] = tsvd_results_test[:, i - 1]\n",
    "    testset2['tsvd_' + str(i)] = tsvd_results_test2[:, i - 1]\n",
    "\n",
    "    trainset['ica_' + str(i)] = ica_results_train[:, i - 1]\n",
    "    testset['ica_' + str(i)] = ica_results_test[:, i - 1]\n",
    "    testset2['ica_' + str(i)] = ica_results_test2[:, i - 1]\n",
    "    \n",
    "    trainset['fa_' + str(i)] = fa_results_train[:, i - 1]\n",
    "    testset['fa_' + str(i)] = fa_results_test[:, i - 1]\n",
    "    testset2['fa_' + str(i)] = fa_results_test2[:, i - 1]\n",
    "\n",
    "    trainset['grp_' + str(i)] = grp_results_train[:, i - 1]\n",
    "    testset['grp_' + str(i)] = grp_results_test[:, i - 1]\n",
    "    testset2['grp_' + str(i)] = grp_results_test2[:, i - 1]\n",
    "\n",
    "    trainset['srp_' + str(i)] = srp_results_train[:, i - 1]\n",
    "    testset['srp_' + str(i)] = srp_results_test[:, i - 1]\n",
    "    testset2['srp_' + str(i)] = srp_results_test2[:, i - 1]\n",
    "print(\"\\nTrain shape: {}\\nTest shape: {}\".format(trainset.shape, testset.shape))"
   ]
  },
  {
   "cell_type": "code",
   "execution_count": null,
   "metadata": {
    "collapsed": true
   },
   "outputs": [],
   "source": []
  },
  {
   "cell_type": "code",
   "execution_count": 16,
   "metadata": {
    "collapsed": false
   },
   "outputs": [
    {
     "data": {
      "text/plain": [
       "[<matplotlib.lines.Line2D at 0x2c6066475f8>]"
      ]
     },
     "execution_count": 16,
     "metadata": {},
     "output_type": "execute_result"
    },
    {
     "data": {
      "image/png": "[encoded data removed]",
      "text/plain": [
       "<Figure size 576x396 with 1 Axes>"
      ]
     },
     "metadata": {},
     "output_type": "display_data"
    }
   ],
   "source": [
    "plt.plot(pca.explained_variance_ratio_)"
   ]
  },
  {
   "cell_type": "code",
   "execution_count": 266,
   "metadata": {
    "collapsed": false
   },
   "outputs": [
    {
     "data": {
      "image/png": "[encoded data removed]",
      "text/plain": [
       "<Figure size 576x396 with 1 Axes>"
      ]
     },
     "metadata": {},
     "output_type": "display_data"
    }
   ],
   "source": [
    "plt.scatter(trainset['vrema_raboty_c'], trainset['target'], s=trainset['stdbk']/30);\n",
    "#plt.xlim(600);\n",
    "#plt.scatter(trainset['wf'], trainset['target']);"
   ]
  },
  {
   "cell_type": "code",
   "execution_count": 17,
   "metadata": {
    "collapsed": false
   },
   "outputs": [
    {
     "data": {
      "image/png": "[encoded data removed]",
      "text/plain": [
       "<Figure size 864x432 with 1 Axes>"
      ]
     },
     "metadata": {},
     "output_type": "display_data"
    }
   ],
   "source": [
    "#choosing number of clusters\n",
    "cluster_range = range( 1, 20 )\n",
    "cluster_errors = []\n",
    "\n",
    "for num_clusters in cluster_range:\n",
    "    clusters = KMeans( num_clusters )\n",
    "    clusters.fit( trainset_scaled )\n",
    "    cluster_errors.append( clusters.inertia_ )\n",
    "    \n",
    "clusters_df = pd.DataFrame( { \"num_clusters\":cluster_range, \"cluster_errors\": cluster_errors } )\n",
    "\n",
    "plt.figure(figsize=(12,6))\n",
    "plt.plot( clusters_df.num_clusters, clusters_df.cluster_errors, marker = \"o\" );"
   ]
  },
  {
   "cell_type": "code",
   "execution_count": 18,
   "metadata": {
    "collapsed": false
   },
   "outputs": [],
   "source": [
    "#create clusters \n",
    "kmeans = KMeans(n_clusters=10, random_state=17).fit(trainset_scaled)\n",
    "trainset['clusters'] = kmeans.labels_\n",
    "testset['clusters'] = kmeans.predict(testset_scaled)\n",
    "testset2['clusters'] = kmeans.predict(testset2_scaled)\n",
    "\n",
    "#kmeans = KMeans(n_clusters=5, random_state=17).fit(trainset_scaled)\n",
    "#trainset['clusters2'] = kmeans.labels_\n",
    "#testset['clusters2'] = kmeans.predict(testset_scaled)\n",
    "#testset2['clusters2'] = kmeans.predict(testset2_scaled)"
   ]
  },
  {
   "cell_type": "code",
   "execution_count": 19,
   "metadata": {
    "collapsed": false
   },
   "outputs": [
    {
     "data": {
      "text/plain": [
       "<matplotlib.collections.PathCollection at 0x2c605a3ab70>"
      ]
     },
     "execution_count": 19,
     "metadata": {},
     "output_type": "execute_result"
    },
    {
     "data": {
      "image/png": "[encoded data removed]",
      "text/plain": [
       "<Figure size 576x396 with 1 Axes>"
      ]
     },
     "metadata": {},
     "output_type": "display_data"
    }
   ],
   "source": [
    "plt.scatter(kmeans.labels_, trainset['target'].fillna(0))"
   ]
  },
  {
   "cell_type": "code",
   "execution_count": 20,
   "metadata": {
    "collapsed": false
   },
   "outputs": [
    {
     "name": "stdout",
     "output_type": "stream",
     "text": [
      "<class 'pandas.core.frame.DataFrame'>\n",
      "Int64Index: 7750 entries, 0 to 7749\n",
      "Columns: 585 entries, skvajina to clusters\n",
      "dtypes: datetime64[ns](1), float64(574), int32(3), int64(6), object(1)\n",
      "memory usage: 34.6+ MB\n"
     ]
    }
   ],
   "source": [
    "trainset.info()"
   ]
  },
  {
   "cell_type": "code",
   "execution_count": 21,
   "metadata": {
    "collapsed": true
   },
   "outputs": [],
   "source": [
    "#change datatype to float32\n",
    "for c, dtype in zip(trainset.columns, trainset.dtypes):\n",
    "    if dtype == np.float64:\n",
    "        trainset[c] = trainset[c].astype(np.float32)\n",
    "        \n",
    "for c, dtype in zip(testset.columns, testset.dtypes):\n",
    "    if dtype == np.float64:\n",
    "        testset[c] = testset[c].astype(np.float32)\n",
    "        \n",
    "for c, dtype in zip(testset2.columns, testset2.dtypes):\n",
    "    if dtype == np.float64:\n",
    "        testset2[c] = testset2[c].astype(np.float32)"
   ]
  },
  {
   "cell_type": "code",
   "execution_count": null,
   "metadata": {
    "collapsed": true
   },
   "outputs": [],
   "source": []
  },
  {
   "cell_type": "markdown",
   "metadata": {},
   "source": [
    "## 3. MODELING"
   ]
  },
  {
   "cell_type": "markdown",
   "metadata": {},
   "source": [
    "#### Draft model"
   ]
  },
  {
   "cell_type": "code",
   "execution_count": 22,
   "metadata": {
    "collapsed": true
   },
   "outputs": [],
   "source": [
    "#custom objective function \n",
    "def fair_obj(preds, dtrain):\n",
    "    \"\"\"y = c * abs(x) - c**2 * np.log(abs(x)/c + 1)\"\"\"\n",
    "    x = preds - dtrain.get_label()\n",
    "    c = 1\n",
    "    den = abs(x) + c\n",
    "    grad = c*x / den\n",
    "    hess = c*c / den ** 2\n",
    "    return grad, hess\n",
    "\n",
    "#custom evaluation function\n",
    "def mae_feval(preds, dtrain):\n",
    "    \"\"\"mae = 1/n * abs(preds - true)\"\"\"\n",
    "    labels = dtrain.get_label()\n",
    "    \n",
    "    return 'mae_eval', abs(preds - labels).mean()"
   ]
  },
  {
   "cell_type": "code",
   "execution_count": 23,
   "metadata": {
    "collapsed": false
   },
   "outputs": [
    {
     "name": "stdout",
     "output_type": "stream",
     "text": [
      "test MAE: 126.74481201171875\n",
      "RSQ = 0.8118628217635515\n",
      "Wall time: 8.72 s\n"
     ]
    }
   ],
   "source": [
    "%%time\n",
    "#target: w or w/o log?\n",
    "\n",
    "cols_xgb_del = ['date', 'skvajina'] + ['vrema_raboty_c', 'month', 'timediff', 'quarter', 'year']\n",
    "cols_only_in_test = set(testset.columns) - set(trainset.columns)\n",
    "cols_xgb = list(set(list(testset.drop(cols_xgb_del, axis=1).columns)) - cols_only_in_test)\n",
    "#cols_xgb = deco_names+['clusters']   #alternative model\n",
    "    \n",
    "X_train, X_test, y_train, y_test = train_test_split(trainset[cols_xgb], \n",
    "                                                    trainset['target'], test_size=0.3, random_state=17)\n",
    "\n",
    "dtrain = xgb.DMatrix(X_train, y_train)\n",
    "dtest = xgb.DMatrix(X_test, y_test)\n",
    "\n",
    "gbm = xgb.train(params={'learning_rate':0.1}, dtrain=dtrain, num_boost_round=200, \n",
    "                maximize=False)\n",
    "\n",
    "print(\"test MAE: {}\".format(mean_absolute_error(y_test, gbm.predict(dtest))))\n",
    "print(\"RSQ = {}\".format(np.corrcoef(y_test.values.T, gbm.predict(dtest))[0][1] ** 2))"
   ]
  },
  {
   "cell_type": "code",
   "execution_count": 24,
   "metadata": {
    "collapsed": false
   },
   "outputs": [
    {
     "data": {
      "text/html": [
       "<div>\n",
       "<table border=\"1\" class=\"dataframe\">\n",
       "  <thead>\n",
       "    <tr style=\"text-align: right;\">\n",
       "      <th></th>\n",
       "      <th>feature</th>\n",
       "      <th>fscore</th>\n",
       "      <th>fscr_share</th>\n",
       "    </tr>\n",
       "  </thead>\n",
       "  <tbody>\n",
       "    <tr>\n",
       "      <th>308</th>\n",
       "      <td>ica_7</td>\n",
       "      <td>1131</td>\n",
       "      <td>0.168029</td>\n",
       "    </tr>\n",
       "    <tr>\n",
       "      <th>307</th>\n",
       "      <td>lintrend</td>\n",
       "      <td>531</td>\n",
       "      <td>0.078889</td>\n",
       "    </tr>\n",
       "    <tr>\n",
       "      <th>306</th>\n",
       "      <td>fa_6</td>\n",
       "      <td>374</td>\n",
       "      <td>0.055564</td>\n",
       "    </tr>\n",
       "    <tr>\n",
       "      <th>305</th>\n",
       "      <td>ica_6</td>\n",
       "      <td>229</td>\n",
       "      <td>0.034022</td>\n",
       "    </tr>\n",
       "    <tr>\n",
       "      <th>304</th>\n",
       "      <td>grp_5</td>\n",
       "      <td>186</td>\n",
       "      <td>0.027633</td>\n",
       "    </tr>\n",
       "    <tr>\n",
       "      <th>303</th>\n",
       "      <td>ica_4</td>\n",
       "      <td>173</td>\n",
       "      <td>0.025702</td>\n",
       "    </tr>\n",
       "    <tr>\n",
       "      <th>302</th>\n",
       "      <td>tsvd_4</td>\n",
       "      <td>159</td>\n",
       "      <td>0.023622</td>\n",
       "    </tr>\n",
       "    <tr>\n",
       "      <th>301</th>\n",
       "      <td>tsvd_7</td>\n",
       "      <td>125</td>\n",
       "      <td>0.018571</td>\n",
       "    </tr>\n",
       "    <tr>\n",
       "      <th>300</th>\n",
       "      <td>grp_4</td>\n",
       "      <td>112</td>\n",
       "      <td>0.016639</td>\n",
       "    </tr>\n",
       "    <tr>\n",
       "      <th>299</th>\n",
       "      <td>grp_6</td>\n",
       "      <td>103</td>\n",
       "      <td>0.015302</td>\n",
       "    </tr>\n",
       "    <tr>\n",
       "      <th>298</th>\n",
       "      <td>ica_2</td>\n",
       "      <td>102</td>\n",
       "      <td>0.015154</td>\n",
       "    </tr>\n",
       "    <tr>\n",
       "      <th>297</th>\n",
       "      <td>srp_3</td>\n",
       "      <td>98</td>\n",
       "      <td>0.014560</td>\n",
       "    </tr>\n",
       "    <tr>\n",
       "      <th>296</th>\n",
       "      <td>pca_8</td>\n",
       "      <td>92</td>\n",
       "      <td>0.013668</td>\n",
       "    </tr>\n",
       "    <tr>\n",
       "      <th>295</th>\n",
       "      <td>fa_10</td>\n",
       "      <td>91</td>\n",
       "      <td>0.013520</td>\n",
       "    </tr>\n",
       "    <tr>\n",
       "      <th>294</th>\n",
       "      <td>grp_7</td>\n",
       "      <td>82</td>\n",
       "      <td>0.012182</td>\n",
       "    </tr>\n",
       "    <tr>\n",
       "      <th>293</th>\n",
       "      <td>ica_1</td>\n",
       "      <td>78</td>\n",
       "      <td>0.011588</td>\n",
       "    </tr>\n",
       "    <tr>\n",
       "      <th>292</th>\n",
       "      <td>grp_10</td>\n",
       "      <td>73</td>\n",
       "      <td>0.010845</td>\n",
       "    </tr>\n",
       "    <tr>\n",
       "      <th>291</th>\n",
       "      <td>grp_1</td>\n",
       "      <td>73</td>\n",
       "      <td>0.010845</td>\n",
       "    </tr>\n",
       "    <tr>\n",
       "      <th>290</th>\n",
       "      <td>grp_8</td>\n",
       "      <td>72</td>\n",
       "      <td>0.010697</td>\n",
       "    </tr>\n",
       "    <tr>\n",
       "      <th>289</th>\n",
       "      <td>pca_3</td>\n",
       "      <td>70</td>\n",
       "      <td>0.010400</td>\n",
       "    </tr>\n",
       "  </tbody>\n",
       "</table>\n",
       "</div>"
      ],
      "text/plain": [
       "      feature  fscore  fscr_share\n",
       "308     ica_7    1131    0.168029\n",
       "307  lintrend     531    0.078889\n",
       "306      fa_6     374    0.055564\n",
       "305     ica_6     229    0.034022\n",
       "304     grp_5     186    0.027633\n",
       "303     ica_4     173    0.025702\n",
       "302    tsvd_4     159    0.023622\n",
       "301    tsvd_7     125    0.018571\n",
       "300     grp_4     112    0.016639\n",
       "299     grp_6     103    0.015302\n",
       "298     ica_2     102    0.015154\n",
       "297     srp_3      98    0.014560\n",
       "296     pca_8      92    0.013668\n",
       "295     fa_10      91    0.013520\n",
       "294     grp_7      82    0.012182\n",
       "293     ica_1      78    0.011588\n",
       "292    grp_10      73    0.010845\n",
       "291     grp_1      73    0.010845\n",
       "290     grp_8      72    0.010697\n",
       "289     pca_3      70    0.010400"
      ]
     },
     "execution_count": 24,
     "metadata": {},
     "output_type": "execute_result"
    }
   ],
   "source": [
    "#feature importance\n",
    "import operator\n",
    "importance = gbm.get_fscore()\n",
    "importance = sorted(importance.items(), key=operator.itemgetter(1))\n",
    "importance_df = pd.DataFrame(importance, columns=['feature', 'fscore'])\n",
    "importance_df['fscr_share'] = importance_df['fscore'] / importance_df['fscore'].sum()\n",
    "importance_df.sort_values(ascending=False, by='fscore')[:20]"
   ]
  },
  {
   "cell_type": "code",
   "execution_count": null,
   "metadata": {
    "collapsed": false
   },
   "outputs": [],
   "source": []
  },
  {
   "cell_type": "markdown",
   "metadata": {},
   "source": [
    "#### Parameters' optimization"
   ]
  },
  {
   "cell_type": "code",
   "execution_count": 26,
   "metadata": {
    "collapsed": true
   },
   "outputs": [],
   "source": [
    "def score(params):\n",
    "    print(\"Training with params:\")\n",
    "    print(params)\n",
    "    params['max_depth'] = int(params['max_depth'])\n",
    "    dtrain = xgb.DMatrix(X_train, label=y_train)\n",
    "    dvalid = xgb.DMatrix(X_test, label=y_test)\n",
    "    model = xgb.train(params, dtrain, params['num_round'])\n",
    "    predictions = model.predict(dvalid).reshape((X_test.shape[0], 1))\n",
    "    score = mean_absolute_error(y_test, predictions) #exp\n",
    "    print(\"\\tScore {0}\\n\\n\".format(score))\n",
    "    return {'loss': score, 'status': STATUS_OK}"
   ]
  },
  {
   "cell_type": "code",
   "execution_count": 27,
   "metadata": {
    "collapsed": true
   },
   "outputs": [],
   "source": [
    "def optimize(trials):\n",
    "    space = {\n",
    "             'num_round': 100,\n",
    "             'learning_rate': hp.quniform('eta', 0.01, 0.1, 0.01),\n",
    "             'max_depth': hp.quniform('max_depth', 5, 14, 1),\n",
    "             'min_child_weight': hp.quniform('min_child_weight', 1, 10, 1),\n",
    "             'subsample': hp.quniform('subsample', 0.5, 1, 0.05),\n",
    "             'gamma': hp.quniform('gamma', 0.5, 1, 0.01),\n",
    "             'colsample_bytree': hp.quniform('colsample_bytree', 0.4, 1, 0.05),\n",
    "             'eval_metric': 'mae',\n",
    "             'objective': 'reg:linear',\n",
    "             'nthread' : 4,\n",
    "             'silent' : 1\n",
    "             }\n",
    "    \n",
    "    best = fmin(score, space, algo=tpe.suggest, trials=trials, max_evals=10)\n",
    "    return best"
   ]
  },
  {
   "cell_type": "code",
   "execution_count": null,
   "metadata": {
    "collapsed": true
   },
   "outputs": [],
   "source": []
  },
  {
   "cell_type": "code",
   "execution_count": 28,
   "metadata": {
    "collapsed": false
   },
   "outputs": [
    {
     "name": "stdout",
     "output_type": "stream",
     "text": [
      "Training with params:\n",
      "{'colsample_bytree': 0.7000000000000001, 'eval_metric': 'mae', 'gamma': 0.51, 'learning_rate': 0.08, 'max_depth': 8.0, 'min_child_weight': 5.0, 'nthread': 4, 'num_round': 100, 'objective': 'reg:linear', 'silent': 1, 'subsample': 0.6000000000000001}\n",
      "\tScore 133.07713317871094\n",
      "\n",
      "\n",
      "Training with params:\n",
      "{'colsample_bytree': 0.8500000000000001, 'eval_metric': 'mae', 'gamma': 0.54, 'learning_rate': 0.1, 'max_depth': 14.0, 'min_child_weight': 7.0, 'nthread': 4, 'num_round': 100, 'objective': 'reg:linear', 'silent': 1, 'subsample': 0.8500000000000001}\n",
      "\tScore 111.01153564453125\n",
      "\n",
      "\n",
      "Training with params:\n",
      "{'colsample_bytree': 0.6000000000000001, 'eval_metric': 'mae', 'gamma': 1.0, 'learning_rate': 0.04, 'max_depth': 10.0, 'min_child_weight': 4.0, 'nthread': 4, 'num_round': 100, 'objective': 'reg:linear', 'silent': 1, 'subsample': 1.0}\n",
      "\tScore 119.6561279296875\n",
      "\n",
      "\n",
      "Training with params:\n",
      "{'colsample_bytree': 0.45, 'eval_metric': 'mae', 'gamma': 0.88, 'learning_rate': 0.1, 'max_depth': 7.0, 'min_child_weight': 6.0, 'nthread': 4, 'num_round': 100, 'objective': 'reg:linear', 'silent': 1, 'subsample': 0.55}\n",
      "\tScore 138.87344360351562\n",
      "\n",
      "\n",
      "Training with params:\n",
      "{'colsample_bytree': 0.8, 'eval_metric': 'mae', 'gamma': 0.73, 'learning_rate': 0.1, 'max_depth': 5.0, 'min_child_weight': 8.0, 'nthread': 4, 'num_round': 100, 'objective': 'reg:linear', 'silent': 1, 'subsample': 0.75}\n",
      "\tScore 154.46690368652344\n",
      "\n",
      "\n",
      "Training with params:\n",
      "{'colsample_bytree': 0.6000000000000001, 'eval_metric': 'mae', 'gamma': 0.6900000000000001, 'learning_rate': 0.02, 'max_depth': 12.0, 'min_child_weight': 10.0, 'nthread': 4, 'num_round': 100, 'objective': 'reg:linear', 'silent': 1, 'subsample': 0.65}\n",
      "\tScore 146.66781616210938\n",
      "\n",
      "\n",
      "Training with params:\n",
      "{'colsample_bytree': 0.55, 'eval_metric': 'mae', 'gamma': 0.5700000000000001, 'learning_rate': 0.1, 'max_depth': 10.0, 'min_child_weight': 6.0, 'nthread': 4, 'num_round': 100, 'objective': 'reg:linear', 'silent': 1, 'subsample': 0.65}\n",
      "\tScore 122.03013610839844\n",
      "\n",
      "\n",
      "Training with params:\n",
      "{'colsample_bytree': 0.6000000000000001, 'eval_metric': 'mae', 'gamma': 0.65, 'learning_rate': 0.06, 'max_depth': 8.0, 'min_child_weight': 10.0, 'nthread': 4, 'num_round': 100, 'objective': 'reg:linear', 'silent': 1, 'subsample': 1.0}\n",
      "\tScore 132.60760498046875\n",
      "\n",
      "\n",
      "Training with params:\n",
      "{'colsample_bytree': 0.9500000000000001, 'eval_metric': 'mae', 'gamma': 0.58, 'learning_rate': 0.09, 'max_depth': 9.0, 'min_child_weight': 4.0, 'nthread': 4, 'num_round': 100, 'objective': 'reg:linear', 'silent': 1, 'subsample': 0.9500000000000001}\n",
      "\tScore 116.55970764160156\n",
      "\n",
      "\n",
      "Training with params:\n",
      "{'colsample_bytree': 0.5, 'eval_metric': 'mae', 'gamma': 0.98, 'learning_rate': 0.04, 'max_depth': 12.0, 'min_child_weight': 5.0, 'nthread': 4, 'num_round': 100, 'objective': 'reg:linear', 'silent': 1, 'subsample': 0.75}\n",
      "\tScore 121.89045715332031\n",
      "\n",
      "\n",
      "Wall time: 56.3 s\n"
     ]
    }
   ],
   "source": [
    "%%time\n",
    "\"\"\"поиск набора гиперпараметров\"\"\"\n",
    "trials = Trials()\n",
    "best_params = optimize(trials)\n",
    "best_params"
   ]
  },
  {
   "cell_type": "code",
   "execution_count": 29,
   "metadata": {
    "collapsed": true
   },
   "outputs": [],
   "source": [
    "#set models parameters\n",
    "best_params['max_depth'] = int(best_params['max_depth'])\n",
    "best_params['eval_metric'] = 'mae'\n",
    "best_params['objective'] = 'reg:linear'\n",
    "best_params['nthread'] = 4\n",
    "best_params['silent'] = 1\n",
    "\n",
    "best_params['learning_rate'] = 0.1"
   ]
  },
  {
   "cell_type": "code",
   "execution_count": 30,
   "metadata": {
    "collapsed": false
   },
   "outputs": [
    {
     "data": {
      "text/plain": [
       "{'colsample_bytree': 0.8500000000000001,\n",
       " 'eta': 0.1,\n",
       " 'eval_metric': 'mae',\n",
       " 'gamma': 0.54,\n",
       " 'learning_rate': 0.1,\n",
       " 'max_depth': 14,\n",
       " 'min_child_weight': 7.0,\n",
       " 'nthread': 4,\n",
       " 'objective': 'reg:linear',\n",
       " 'silent': 1,\n",
       " 'subsample': 0.8500000000000001}"
      ]
     },
     "execution_count": 30,
     "metadata": {},
     "output_type": "execute_result"
    }
   ],
   "source": [
    "best_params"
   ]
  },
  {
   "cell_type": "code",
   "execution_count": null,
   "metadata": {
    "collapsed": true
   },
   "outputs": [],
   "source": []
  },
  {
   "cell_type": "code",
   "execution_count": 31,
   "metadata": {
    "collapsed": false
   },
   "outputs": [
    {
     "name": "stdout",
     "output_type": "stream",
     "text": [
      "Wall time: 2min 59s\n"
     ]
    }
   ],
   "source": [
    "%%time\n",
    "#optional part\n",
    "#use all train to estimate best num rounds on CV\n",
    "dtrain = xgb.DMatrix(pd.concat([X_train, X_test]), pd.concat([y_train, y_test]))\n",
    "xgbCvResult = xgb.cv(best_params, dtrain, num_boost_round=2000,  nfold=3, early_stopping_rounds=50, seed=17, \n",
    "                     feval=mae_feval)"
   ]
  },
  {
   "cell_type": "code",
   "execution_count": 32,
   "metadata": {
    "collapsed": false
   },
   "outputs": [
    {
     "name": "stdout",
     "output_type": "stream",
     "text": [
      "best number of trees: 600\n"
     ]
    },
    {
     "data": {
      "image/png": "[encoded data removed]",
      "text/plain": [
       "<Figure size 576x396 with 1 Axes>"
      ]
     },
     "metadata": {},
     "output_type": "display_data"
    }
   ],
   "source": [
    "plt.plot(range(xgbCvResult.shape[0]), xgbCvResult['test-mae_eval-mean']);\n",
    "plt.plot(range(xgbCvResult.shape[0]), xgbCvResult['train-mae_eval-mean']);\n",
    "xgbCvResult['test-mae_eval-std'].plot();\n",
    "best_num_round = np.argmin(xgbCvResult['test-mae_eval-mean'])\n",
    "print('best number of trees: {}'.format(best_num_round))"
   ]
  },
  {
   "cell_type": "code",
   "execution_count": null,
   "metadata": {
    "collapsed": true
   },
   "outputs": [],
   "source": []
  },
  {
   "cell_type": "code",
   "execution_count": 33,
   "metadata": {
    "collapsed": false
   },
   "outputs": [
    {
     "name": "stdout",
     "output_type": "stream",
     "text": [
      "Wall time: 24.7 s\n"
     ]
    }
   ],
   "source": [
    "%%time\n",
    "\"\"\"cross-validation datasets\"\"\"\n",
    "from sklearn.model_selection import KFold\n",
    "\n",
    "kf = KFold(n_splits=5, random_state=17, shuffle=True)\n",
    "\n",
    "for i, (train_index, valid_index) in enumerate(kf.split(range(len(trainset)))):\n",
    "    train_set = trainset.loc[train_index, cols_xgb + ['target']]\n",
    "    valid_set = trainset.loc[valid_index, cols_xgb + ['target']]\n",
    "\n",
    "    train_set.to_csv(r'C:\\Users\\drobotov\\python\\py_boosterspro\\Gazprom Neft SmartOil Contest\\task1\\cv\\train_' + str(i) \n",
    "                     + '.csv', index=False)\n",
    "    valid_set.to_csv(r'C:\\Users\\drobotov\\python\\py_boosterspro\\Gazprom Neft SmartOil Contest\\task1\\cv\\valid_' + str(i) \n",
    "                     + '.csv',index=False)"
   ]
  },
  {
   "cell_type": "markdown",
   "metadata": {},
   "source": [
    "#### CROSS VALIDATION 5-F"
   ]
  },
  {
   "cell_type": "code",
   "execution_count": 35,
   "metadata": {
    "collapsed": false
   },
   "outputs": [
    {
     "name": "stdout",
     "output_type": "stream",
     "text": [
      "[0]\teval-mae:393.98\ttrain-mae:416.243\teval-mae_eval:393.98\ttrain-mae_eval:416.243\n",
      "Multiple eval metrics have been passed: 'train-mae_eval' will be used for early stopping.\n",
      "\n",
      "Will train until train-mae_eval hasn't improved in 50 rounds.\n",
      "[100]\teval-mae:245.502\ttrain-mae:256.049\teval-mae_eval:245.502\ttrain-mae_eval:256.049\n",
      "[200]\teval-mae:228.606\ttrain-mae:233.332\teval-mae_eval:228.605\ttrain-mae_eval:233.332\n",
      "[300]\teval-mae:221.586\ttrain-mae:223.126\teval-mae_eval:221.586\ttrain-mae_eval:223.126\n",
      "[400]\teval-mae:216.476\ttrain-mae:216.237\teval-mae_eval:216.476\ttrain-mae_eval:216.237\n",
      "[500]\teval-mae:212.065\ttrain-mae:210.386\teval-mae_eval:212.065\ttrain-mae_eval:210.386\n",
      "[599]\teval-mae:208.174\ttrain-mae:205.558\teval-mae_eval:208.174\ttrain-mae_eval:205.558\n",
      "[0]\teval-mae:405.243\ttrain-mae:410.642\teval-mae_eval:405.243\ttrain-mae_eval:410.642\n",
      "Multiple eval metrics have been passed: 'train-mae_eval' will be used for early stopping.\n",
      "\n",
      "Will train until train-mae_eval hasn't improved in 50 rounds.\n",
      "[100]\teval-mae:255.795\ttrain-mae:250.387\teval-mae_eval:255.795\ttrain-mae_eval:250.387\n",
      "[200]\teval-mae:234.256\ttrain-mae:229.663\teval-mae_eval:234.256\ttrain-mae_eval:229.663\n",
      "[300]\teval-mae:225.607\ttrain-mae:220.518\teval-mae_eval:225.607\ttrain-mae_eval:220.518\n",
      "[400]\teval-mae:220.297\ttrain-mae:214.01\teval-mae_eval:220.297\ttrain-mae_eval:214.01\n",
      "[500]\teval-mae:215.843\ttrain-mae:208.525\teval-mae_eval:215.843\ttrain-mae_eval:208.525\n",
      "[599]\teval-mae:211.675\ttrain-mae:203.698\teval-mae_eval:211.675\ttrain-mae_eval:203.698\n",
      "[0]\teval-mae:399.058\ttrain-mae:413.773\teval-mae_eval:399.058\ttrain-mae_eval:413.773\n",
      "Multiple eval metrics have been passed: 'train-mae_eval' will be used for early stopping.\n",
      "\n",
      "Will train until train-mae_eval hasn't improved in 50 rounds.\n",
      "[100]\teval-mae:244.474\ttrain-mae:252.643\teval-mae_eval:244.474\ttrain-mae_eval:252.643\n",
      "[200]\teval-mae:226.242\ttrain-mae:231.65\teval-mae_eval:226.242\ttrain-mae_eval:231.65\n",
      "[300]\teval-mae:218.212\ttrain-mae:222.14\teval-mae_eval:218.212\ttrain-mae_eval:222.14\n",
      "[400]\teval-mae:212.143\ttrain-mae:214.926\teval-mae_eval:212.143\ttrain-mae_eval:214.926\n",
      "[500]\teval-mae:207.854\ttrain-mae:209.137\teval-mae_eval:207.854\ttrain-mae_eval:209.137\n",
      "[599]\teval-mae:204.67\ttrain-mae:204.464\teval-mae_eval:204.67\ttrain-mae_eval:204.464\n",
      "[0]\teval-mae:443.38\ttrain-mae:406.209\teval-mae_eval:443.38\ttrain-mae_eval:406.209\n",
      "Multiple eval metrics have been passed: 'train-mae_eval' will be used for early stopping.\n",
      "\n",
      "Will train until train-mae_eval hasn't improved in 50 rounds.\n",
      "[100]\teval-mae:270.246\ttrain-mae:249.401\teval-mae_eval:270.246\ttrain-mae_eval:249.401\n",
      "[200]\teval-mae:251.244\ttrain-mae:231.032\teval-mae_eval:251.244\ttrain-mae_eval:231.032\n",
      "[300]\teval-mae:241.193\ttrain-mae:221.162\teval-mae_eval:241.193\ttrain-mae_eval:221.162\n",
      "[400]\teval-mae:234.843\ttrain-mae:214.382\teval-mae_eval:234.843\ttrain-mae_eval:214.382\n",
      "[500]\teval-mae:230.145\ttrain-mae:208.988\teval-mae_eval:230.145\ttrain-mae_eval:208.988\n",
      "[599]\teval-mae:226.519\ttrain-mae:204.212\teval-mae_eval:226.519\ttrain-mae_eval:204.212\n",
      "[0]\teval-mae:418.011\ttrain-mae:412.195\teval-mae_eval:418.011\ttrain-mae_eval:412.195\n",
      "Multiple eval metrics have been passed: 'train-mae_eval' will be used for early stopping.\n",
      "\n",
      "Will train until train-mae_eval hasn't improved in 50 rounds.\n",
      "[100]\teval-mae:261.064\ttrain-mae:253.097\teval-mae_eval:261.064\ttrain-mae_eval:253.097\n",
      "[200]\teval-mae:240.322\ttrain-mae:231.113\teval-mae_eval:240.322\ttrain-mae_eval:231.113\n",
      "[300]\teval-mae:233.014\ttrain-mae:221.161\teval-mae_eval:233.014\ttrain-mae_eval:221.161\n",
      "[400]\teval-mae:228.103\ttrain-mae:214.063\teval-mae_eval:228.103\ttrain-mae_eval:214.063\n",
      "[500]\teval-mae:224.61\ttrain-mae:208.477\teval-mae_eval:224.61\ttrain-mae_eval:208.477\n",
      "[599]\teval-mae:221.357\ttrain-mae:203.729\teval-mae_eval:221.357\ttrain-mae_eval:203.729\n",
      "Wall time: 3min 7s\n"
     ]
    }
   ],
   "source": [
    "%%time\n",
    "\n",
    "scores_tra = {}\n",
    "scores_val = {}\n",
    "\n",
    "trainset_pred = 0\n",
    "testset_pred = 0\n",
    "testset2_pred = 0\n",
    "\n",
    "trainXGB = xgb.DMatrix(trainset[cols_xgb])\n",
    "y = trainset['target'].values\n",
    "testXGB = xgb.DMatrix(testset[cols_xgb])\n",
    "test2XGB = xgb.DMatrix(testset2[cols_xgb])\n",
    "\n",
    "for i in range(kf.n_splits):\n",
    "    \n",
    "    train_set = pd.read_csv(r'C:\\Users\\drobotov\\python\\py_boosterspro\\Gazprom Neft SmartOil Contest\\task1\\cv\\train_' \n",
    "                            + str(i) + '.csv', encoding=\"cp1251\")\n",
    "    val_set = pd.read_csv(r'C:\\Users\\drobotov\\python\\py_boosterspro\\Gazprom Neft SmartOil Contest\\task1\\cv\\valid_' \n",
    "                          + str(i) + '.csv', encoding=\"cp1251\")\n",
    "    \n",
    "    y_train = train_set['target'].copy()\n",
    "    train_set.drop('target', axis=1, inplace=True)\n",
    "    y_val = val_set['target'].copy()\n",
    "    val_set.drop('target', axis=1, inplace=True)\n",
    "    \n",
    "    train_set = xgb.DMatrix(train_set, label=y_train)\n",
    "    val_set = xgb.DMatrix(val_set, label=y_val)\n",
    "    \n",
    "    watchlist = [(val_set, 'eval'), (train_set, 'train')] #evals\n",
    "    \n",
    "    gbm = xgb.train(best_params, train_set, evals=watchlist, verbose_eval=100,\n",
    "                    num_boost_round=best_num_round, early_stopping_rounds=50, \n",
    "                    feval=mae_feval, obj=fair_obj, maximize=False)\n",
    "    \n",
    "    y_pred_tra = gbm.predict(trainXGB)\n",
    "    y_pred_val = gbm.predict(val_set)\n",
    "    y_pred_tes = gbm.predict(testXGB)\n",
    "    y_pred_tes2 = gbm.predict(test2XGB)\n",
    "    \n",
    "    scores_tra['fold' + str(i)] = mae(y_pred_tra, y)\n",
    "    scores_val['fold' + str(i)] = mae(y_pred_val, y_val)\n",
    "    \n",
    "    trainset_pred = trainset_pred + y_pred_tra\n",
    "    testset_pred = testset_pred + y_pred_tes\n",
    "    testset2_pred = testset2_pred + y_pred_tes2"
   ]
  },
  {
   "cell_type": "code",
   "execution_count": null,
   "metadata": {
    "collapsed": false
   },
   "outputs": [],
   "source": []
  },
  {
   "cell_type": "code",
   "execution_count": 36,
   "metadata": {
    "collapsed": false
   },
   "outputs": [
    {
     "name": "stdout",
     "output_type": "stream",
     "text": [
      "validation MAE score: 214.47910396195283, train MAE score: 206.3616516113281\n"
     ]
    }
   ],
   "source": [
    "print('validation MAE score: {}, train MAE score: {}'.format(pd.Series(scores_val).mean(), pd.Series(scores_tra).mean()))"
   ]
  },
  {
   "cell_type": "code",
   "execution_count": null,
   "metadata": {
    "collapsed": true
   },
   "outputs": [],
   "source": []
  },
  {
   "cell_type": "code",
   "execution_count": null,
   "metadata": {
    "collapsed": true
   },
   "outputs": [],
   "source": []
  },
  {
   "cell_type": "code",
   "execution_count": null,
   "metadata": {
    "collapsed": true
   },
   "outputs": [],
   "source": []
  },
  {
   "cell_type": "code",
   "execution_count": null,
   "metadata": {
    "collapsed": true
   },
   "outputs": [],
   "source": []
  },
  {
   "cell_type": "code",
   "execution_count": null,
   "metadata": {
    "collapsed": true
   },
   "outputs": [],
   "source": []
  }
 ],
 "metadata": {
  "kernelspec": {
   "display_name": "Python 3",
   "language": "python",
   "name": "python3"
  },
  "language_info": {
   "codemirror_mode": {
    "name": "ipython",
    "version": 3
   },
   "file_extension": ".py",
   "mimetype": "text/x-python",
   "name": "python",
   "nbconvert_exporter": "python",
   "pygments_lexer": "ipython3",
   "version": "3.6.2"
  }
 },
 "nbformat": 4,
 "nbformat_minor": 2
}
